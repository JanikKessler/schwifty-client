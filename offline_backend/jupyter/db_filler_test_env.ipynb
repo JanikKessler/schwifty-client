{
 "cells": [
  {
   "cell_type": "markdown",
   "id": "mounted-arnold",
   "metadata": {},
   "source": [
    "# Path Integration"
   ]
  },
  {
   "cell_type": "code",
   "execution_count": 9,
   "id": "becoming-cisco",
   "metadata": {},
   "outputs": [
    {
     "name": "stdout",
     "output_type": "stream",
     "text": [
      "../test_db.db\n"
     ]
    }
   ],
   "source": [
    "from pathlib import Path\n",
    "\n",
    "path_base = Path('..')\n",
    "path_db = path_base / 'test_db.db'\n",
    "print(path_db)"
   ]
  },
  {
   "cell_type": "markdown",
   "id": "neural-scroll",
   "metadata": {},
   "source": [
    "# SQLite\n",
    "## Python Test"
   ]
  },
  {
   "cell_type": "code",
   "execution_count": 10,
   "id": "substantial-technician",
   "metadata": {},
   "outputs": [
    {
     "name": "stdout",
     "output_type": "stream",
     "text": [
      "Database created and Successfully Connected to SQLite\n",
      "SQLite Database Version is:  [('3.35.1',)]\n",
      "The SQLite connection is closed\n"
     ]
    }
   ],
   "source": [
    "import sqlite3\n",
    "\n",
    "try:\n",
    "    con = sqlite3.connect(path_db)\n",
    "    cursor = con.cursor()\n",
    "    print(\"Database created and Successfully Connected to SQLite\")\n",
    "    \n",
    "    sqlite_select_Query = \"select sqlite_version();\"\n",
    "    cursor.execute(sqlite_select_Query)\n",
    "    record = cursor.fetchall()\n",
    "    print(\"SQLite Database Version is: \", record)\n",
    "    cursor.close()\n",
    "    \n",
    "except sqlite3.Error as error:\n",
    "    print(\"Error while connecting to sqlite\", error)\n",
    "\n",
    "finally:\n",
    "    if con:\n",
    "        con.close()\n",
    "        print(\"The SQLite connection is closed\")"
   ]
  },
  {
   "cell_type": "markdown",
   "id": "beautiful-carroll",
   "metadata": {},
   "source": [
    "## Connect Function Setup"
   ]
  },
  {
   "cell_type": "code",
   "execution_count": 16,
   "id": "impossible-teddy",
   "metadata": {},
   "outputs": [],
   "source": [
    "def connect(path_db, function, query):\n",
    "    try:\n",
    "        con = sqlite3.connect(path_db)\n",
    "        cursor = con.cursor()\n",
    "        print(\"Database created and Successfully Connected to SQLite\")\n",
    "        print(function(cursor, query))\n",
    "\n",
    "    except sqlite3.Error as error:\n",
    "        print(\"Error while connecting to sqlite\", error)\n",
    "    finally:\n",
    "        if con:\n",
    "            con.close()\n",
    "            print(\"The SQLite connection is closed\")\n",
    "            \n",
    "\n",
    "def func_select(cursor, select_query):\n",
    "    cursor.execute(select_query)\n",
    "    record = cursor.fetchall()\n",
    "    cursor.close()\n",
    "    return record\n",
    "\n",
    "\n",
    "def select(path_db, select_query):\n",
    "    connect(path_db, func_select, select_query)"
   ]
  },
  {
   "cell_type": "code",
   "execution_count": 17,
   "id": "particular-restoration",
   "metadata": {},
   "outputs": [
    {
     "name": "stdout",
     "output_type": "stream",
     "text": [
      "Database created and Successfully Connected to SQLite\n",
      "[('3.35.1',)]\n",
      "The SQLite connection is closed\n"
     ]
    }
   ],
   "source": [
    "select_query = 'select sqlite_version();'\n",
    "select(path_db, select_query)"
   ]
  },
  {
   "cell_type": "code",
   "execution_count": 20,
   "id": "fourth-hampshire",
   "metadata": {},
   "outputs": [
    {
     "name": "stdout",
     "output_type": "stream",
     "text": [
      "Database created and Successfully Connected to SQLite\n",
      "[('Seifenblase', 'MODUS', 'Läufer', '04:25', 'seifenblase'), ('Entführer', 'MODUS', 'Läufer', '04:54', 'entfuhrer'), ('Haus', 'MODUS', 'Läufer', '04:52', None), ('Segel', 'MODUS', 'Läufer', '04:10', None), ('Gleiter', 'MODUS', 'Läufer', '06:12', None), ('Denker', 'MODUS', 'Läufer', '06:30', None), ('Freudentaumel', 'MODUS', 'Läufer', '04:29', None), ('Vater', 'MODUS', 'Läufer', '05:41', None), ('Verleger', 'MODUS', 'Läufer', '04:19', None), ('Sandkiste', 'MODUS', 'Läufer', '03:36', None), ('Nothing But A Dream', 'Ravi Johanis', 'Anis', '04:20', None), ('Distraction', 'Ravi Johanis', 'Anis', '04:12', None), ('See My Love Again', 'Ravi Johanis', 'Anis', '03:51', None), ('Montpeiller', 'Ravi Johanis', 'Anis', '03:08', None), ('Words', 'Ravi Johanis', 'Anis', '04:11', None), ('Midatlantic Ridge', 'Ravi Johanis', 'Anis', '02:38', None), ('She', 'Ravi Johanis', 'Anis', '03:48', None), ('Windmill', 'Ravi Johanis', 'Anis', '02:44', None), ('Pass The Pigs', 'Ravi Johanis', 'Anis', '04:39', None), ('My Little Refuge', 'Ravi Johanis', 'Anis', '04:20', None), ('Where The Water Is', 'Ravi Johanis', 'Anis', '03:54', None), ('Visitor', 'Ravi Johanis', 'Anis', '04:35', None), ('From The Screen', 'Ravi Johanis', 'Anis', '03:45', None)]\n",
      "The SQLite connection is closed\n"
     ]
    }
   ],
   "source": [
    "select_query = 'select * from song_list;'\n",
    "select(path_db, select_query)"
   ]
  },
  {
   "cell_type": "markdown",
   "id": "wireless-wedding",
   "metadata": {},
   "source": [
    "# Django\n",
    "[Gutes Tutorial](https://docs.djangoproject.com/en/3.2/intro/tutorial01/)"
   ]
  },
  {
   "cell_type": "code",
   "execution_count": 21,
   "id": "recovered-coast",
   "metadata": {},
   "outputs": [
    {
     "name": "stdout",
     "output_type": "stream",
     "text": [
      "3.2.3\n"
     ]
    }
   ],
   "source": [
    "import django\n",
    "print(django.get_version())"
   ]
  },
  {
   "cell_type": "code",
   "execution_count": 27,
   "id": "acquired-weather",
   "metadata": {},
   "outputs": [
    {
     "name": "stdout",
     "output_type": "stream",
     "text": [
      "../db_filler\n"
     ]
    },
    {
     "data": {
      "text/plain": [
       "[PosixPath('../db_filler/db_filler/__pycache__'),\n",
       " PosixPath('../db_filler/db_filler/asgi.py'),\n",
       " PosixPath('../db_filler/db_filler/wsgi.py'),\n",
       " PosixPath('../db_filler/db_filler/settings.py'),\n",
       " PosixPath('../db_filler/db_filler/urls.py'),\n",
       " PosixPath('../db_filler/db_filler/__init__.py')]"
      ]
     },
     "execution_count": 27,
     "metadata": {},
     "output_type": "execute_result"
    }
   ],
   "source": [
    "path_django = path_base / 'db_filler'\n",
    "print(path_django)\n",
    "django_folders = [x for x in path_django.iterdir()]\n",
    "\n",
    "path_inner_project = path_django / 'db_filler'\n",
    "[x for x in path_inner_project.iterdir()]"
   ]
  },
  {
   "cell_type": "code",
   "execution_count": null,
   "id": "egyptian-samuel",
   "metadata": {},
   "outputs": [],
   "source": []
  }
 ],
 "metadata": {
  "kernelspec": {
   "display_name": "env",
   "language": "python",
   "name": "env"
  },
  "language_info": {
   "codemirror_mode": {
    "name": "ipython",
    "version": 3
   },
   "file_extension": ".py",
   "mimetype": "text/x-python",
   "name": "python",
   "nbconvert_exporter": "python",
   "pygments_lexer": "ipython3",
   "version": "3.8.8"
  }
 },
 "nbformat": 4,
 "nbformat_minor": 5
}
