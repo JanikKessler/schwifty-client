{
 "cells": [
  {
   "cell_type": "markdown",
   "id": "generous-pharmacology",
   "metadata": {},
   "source": [
    "# Python Virtuelles Environment\n",
    "## Basics\n",
    "[Medium Blog Post](https://medium.com/wealthy-bytes/the-easiest-way-to-use-a-python-virtual-environment-with-git-401e07c39cde) (Achtung! Sind ein paar Fehler auf der Seite)\n",
    "\n",
    "Mit Python sowieso auf dem PC installiert (V3.8) `cd` in `./schwiftyrecords/offline_backend`\n",
    "\n",
    "Das virtuelle Environment installieren mit:\n",
    "\n",
    "`python3 -m venv env`\n",
    "\n",
    "Dann in das neue Environment 'einchecken':\n",
    "\n",
    "`source env/bin/activate`\n",
    "\n",
    "**Das einchecken darf man bei Terminal-Aktivitäten nicht vergessen!**\n",
    "\n",
    "**AUSCHECKEN EINFACH MIT:** `deactivate`\n",
    "\n",
    "## pip-Package-Erweiterungen installieren <a name=\"pipinstall\"></a>\n",
    "1. Einchecken: `source env/bin/activate`\n",
    "2. Packages installieren `pip install ...`\n",
    "3. `cd` in `./schwiftyrecords/offline_backend`\n",
    "4. Requirements/Dependencies saven `pip freeze > requirements.txt`\n",
    "5. Git add/commit/push"
   ]
  },
  {
   "cell_type": "markdown",
   "id": "hundred-success",
   "metadata": {},
   "source": [
    "# Django installieren\n",
    "[Quelle](https://www.e2enetworks.com/help/knowledge-base/how-to-install-django-on-ubuntu-18-04-16-04-lts/)\n",
    "\n",
    "## Installation\n",
    "1. `cd` in `./schwiftyrecords/offline_backend`\n",
    "2. In das env einchecken: `source env/bin/activate`\n",
    "3. Installieren mit pip: `pip install Django` \n",
    "4. Django Project anlegen im gewünschten Ordner: \n",
    "\n",
    "```bash\n",
    "django-admin startproject db_filler\n",
    "cd db_filler\n",
    "python manage.py migrate\n",
    "```\n",
    "\n",
    "5. Superuser Erzeugen: `python manage.py createsuperuser`\n",
    "6. Locale IP in die Settings packen: `emacs settings.py`\n",
    "7. Hinzufügen der IP: `ALLOWED_HOSTS = ['127.0.0.1']`\n",
    "\n",
    "## Django starten\n",
    "`python manage.py runserver 0:8000`\n",
    "\n",
    "## Django Admin-Page\n",
    "Einfach auf `127.0.0.1:8000/admin` im Browser gehen"
   ]
  },
  {
   "cell_type": "markdown",
   "id": "civic-patrol",
   "metadata": {},
   "source": [
    "# Jupyter Enviroment Integration\n",
    "[Quelle](https://towardsdatascience.com/create-virtual-environment-using-virtualenv-and-add-it-to-jupyter-notebook-6e1bf4e03415)\n",
    "\n",
    "## Installation im Git\n",
    "Siehe [pip-Package-Erweiterungen installieren](#pipinstall)\n",
    "\n",
    "`pip install ipykernel`\n",
    "\n",
    "## Hinzufügen des env in Jupyter Labs\n",
    "\n",
    "`python -m ipykernel install --user --name=env`"
   ]
  }
 ],
 "metadata": {
  "kernelspec": {
   "display_name": "env",
   "language": "python",
   "name": "env"
  },
  "language_info": {
   "codemirror_mode": {
    "name": "ipython",
    "version": 3
   },
   "file_extension": ".py",
   "mimetype": "text/x-python",
   "name": "python",
   "nbconvert_exporter": "python",
   "pygments_lexer": "ipython3",
   "version": "3.8.8"
  }
 },
 "nbformat": 4,
 "nbformat_minor": 5
}
